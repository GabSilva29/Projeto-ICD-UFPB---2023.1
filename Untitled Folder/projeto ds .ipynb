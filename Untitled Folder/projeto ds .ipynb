{
 "cells": [
  {
   "cell_type": "markdown",
   "id": "bbc9677e",
   "metadata": {},
   "source": [
    "# Introdução do tratamento de dados: \n",
    "\n",
    "1. Importar as bibliotecas necessárias; \n",
    "2. Fazer uma breve visualização da base de dados;\n",
    "3. Boxplot para as variáveis disponíveis. "
   ]
  },
  {
   "cell_type": "markdown",
   "id": "eb1a1a8b",
   "metadata": {},
   "source": [
    "### 1 - Importando as bibliotecas: "
   ]
  },
  {
   "cell_type": "code",
   "execution_count": 24,
   "id": "a421614d",
   "metadata": {
    "is_executing": true
   },
   "outputs": [],
   "source": [
    "import pandas as pd\n",
    "import matplotlib.pyplot as plt\n",
    "import numpy as np\n",
    "import re\n",
    "import seaborn as sns\n",
    "import cython \n"
   ]
  },
  {
   "cell_type": "code",
   "execution_count": 25,
   "id": "335745e9",
   "metadata": {
    "is_executing": true
   },
   "outputs": [],
   "source": [
    "# Função para extrair a string entre o segundo par de aspas simples\n",
    "def extract_string(column_name):\n",
    "    match = re.findall(r\"'([^']*)'\", column_name);\n",
    "    if match:\n",
    "        return match[1]\n",
    "    else:\n",
    "        return column_na"
   ]
  },
  {
   "cell_type": "code",
   "execution_count": 26,
   "id": "4ce9f066",
   "metadata": {
    "is_executing": true
   },
   "outputs": [
    {
     "data": {
      "text/html": [
       "<div>\n",
       "<style scoped>\n",
       "    .dataframe tbody tr th:only-of-type {\n",
       "        vertical-align: middle;\n",
       "    }\n",
       "\n",
       "    .dataframe tbody tr th {\n",
       "        vertical-align: top;\n",
       "    }\n",
       "\n",
       "    .dataframe thead th {\n",
       "        text-align: right;\n",
       "    }\n",
       "</style>\n",
       "<table border=\"1\" class=\"dataframe\">\n",
       "  <thead>\n",
       "    <tr style=\"text-align: right;\">\n",
       "      <th></th>\n",
       "      <th>('P0', 'id')</th>\n",
       "      <th>('P1_a ', 'Idade')</th>\n",
       "      <th>('P1_a_a ', 'Faixa idade')</th>\n",
       "      <th>('P1_b ', 'Genero')</th>\n",
       "      <th>('P1_e ', 'Estado onde mora')</th>\n",
       "      <th>('P1_e_a ', 'uf onde mora')</th>\n",
       "      <th>('P1_e_b ', 'Regiao onde mora')</th>\n",
       "      <th>('P1_g_b ', 'Regiao de origem')</th>\n",
       "      <th>('P1_g_c ', 'Mudou de Estado?')</th>\n",
       "      <th>('P1_h ', 'Nivel de Ensino')</th>\n",
       "      <th>...</th>\n",
       "      <th>('P8_d_g ', 'Criando e dando manutenção em ETLs, DAGs e automações de pipelines de dados.')</th>\n",
       "      <th>('P8_d_h ', 'Criando e gerenciando soluções de Feature Store e cultura de MLOps.')</th>\n",
       "      <th>('P8_d_i ', 'Criando e mantendo a infra que meus modelos e soluções rodam (clusters, servidores, API, containers, etc.)')</th>\n",
       "      <th>('P9_a ', 'Quais das iniciativas do Data Hackers que você já acessou/acompanhou?')</th>\n",
       "      <th>('P9_a_a ', 'Blog/Medium do Data Hackers')</th>\n",
       "      <th>('P9_a_b ', 'Podcast do Data Hackers')</th>\n",
       "      <th>('P9_a_d ', 'Newsletter Semanal')</th>\n",
       "      <th>('P9_a_e ', 'Canal do Slack')</th>\n",
       "      <th>('P9_a_f ', 'Canal do Youtube do Data Hackers')</th>\n",
       "      <th>('P9_a_g ', 'Ainda não conhecia o Data Hackers')</th>\n",
       "    </tr>\n",
       "  </thead>\n",
       "  <tbody>\n",
       "    <tr>\n",
       "      <th>0</th>\n",
       "      <td>qkx4q0ei90wcjxnqkx4q0j3xgf0zn13s</td>\n",
       "      <td>38.0</td>\n",
       "      <td>35-39</td>\n",
       "      <td>Masculino</td>\n",
       "      <td>Ceará (CE)</td>\n",
       "      <td>CE</td>\n",
       "      <td>Nordeste</td>\n",
       "      <td>NaN</td>\n",
       "      <td>0</td>\n",
       "      <td>Pós-graduação</td>\n",
       "      <td>...</td>\n",
       "      <td>NaN</td>\n",
       "      <td>NaN</td>\n",
       "      <td>NaN</td>\n",
       "      <td>Newsletter Semanal, Podcast do Data Hackers</td>\n",
       "      <td>0</td>\n",
       "      <td>1</td>\n",
       "      <td>1</td>\n",
       "      <td>0</td>\n",
       "      <td>0</td>\n",
       "      <td>0</td>\n",
       "    </tr>\n",
       "    <tr>\n",
       "      <th>1</th>\n",
       "      <td>zdl2n19yhgpnoaco6kkczdl2nwv9zwrt</td>\n",
       "      <td>39.0</td>\n",
       "      <td>35-39</td>\n",
       "      <td>Masculino</td>\n",
       "      <td>Bahia (BA)</td>\n",
       "      <td>BA</td>\n",
       "      <td>Nordeste</td>\n",
       "      <td>Sudeste</td>\n",
       "      <td>1</td>\n",
       "      <td>Pós-graduação</td>\n",
       "      <td>...</td>\n",
       "      <td>NaN</td>\n",
       "      <td>NaN</td>\n",
       "      <td>NaN</td>\n",
       "      <td>Newsletter Semanal, Blog/Medium do Data Hackers</td>\n",
       "      <td>1</td>\n",
       "      <td>0</td>\n",
       "      <td>1</td>\n",
       "      <td>0</td>\n",
       "      <td>0</td>\n",
       "      <td>0</td>\n",
       "    </tr>\n",
       "    <tr>\n",
       "      <th>2</th>\n",
       "      <td>vsamqp2un3q7us84mgvsams5fulsmcoh</td>\n",
       "      <td>30.0</td>\n",
       "      <td>30-34</td>\n",
       "      <td>Masculino</td>\n",
       "      <td>Santa Catarina (SC)</td>\n",
       "      <td>SC</td>\n",
       "      <td>Sul</td>\n",
       "      <td>NaN</td>\n",
       "      <td>0</td>\n",
       "      <td>Pós-graduação</td>\n",
       "      <td>...</td>\n",
       "      <td>NaN</td>\n",
       "      <td>NaN</td>\n",
       "      <td>NaN</td>\n",
       "      <td>Blog/Medium do Data Hackers, Podcast do Data H...</td>\n",
       "      <td>1</td>\n",
       "      <td>1</td>\n",
       "      <td>0</td>\n",
       "      <td>0</td>\n",
       "      <td>0</td>\n",
       "      <td>0</td>\n",
       "    </tr>\n",
       "    <tr>\n",
       "      <th>3</th>\n",
       "      <td>v31ab41botodnsv31zgg4k34zzojy81l</td>\n",
       "      <td>38.0</td>\n",
       "      <td>35-39</td>\n",
       "      <td>Feminino</td>\n",
       "      <td>São Paulo (SP)</td>\n",
       "      <td>SP</td>\n",
       "      <td>Sudeste</td>\n",
       "      <td>NaN</td>\n",
       "      <td>0</td>\n",
       "      <td>Pós-graduação</td>\n",
       "      <td>...</td>\n",
       "      <td>NaN</td>\n",
       "      <td>NaN</td>\n",
       "      <td>NaN</td>\n",
       "      <td>Ainda não conhecia o Data Hackers</td>\n",
       "      <td>0</td>\n",
       "      <td>0</td>\n",
       "      <td>0</td>\n",
       "      <td>0</td>\n",
       "      <td>0</td>\n",
       "      <td>1</td>\n",
       "    </tr>\n",
       "    <tr>\n",
       "      <th>4</th>\n",
       "      <td>ubhu8ntvm4xc0sfkdubhu80e973eek0k</td>\n",
       "      <td>36.0</td>\n",
       "      <td>35-39</td>\n",
       "      <td>Masculino</td>\n",
       "      <td>Santa Catarina (SC)</td>\n",
       "      <td>SC</td>\n",
       "      <td>Sul</td>\n",
       "      <td>NaN</td>\n",
       "      <td>0</td>\n",
       "      <td>Pós-graduação</td>\n",
       "      <td>...</td>\n",
       "      <td>NaN</td>\n",
       "      <td>NaN</td>\n",
       "      <td>NaN</td>\n",
       "      <td>Podcast do Data Hackers, Canal do Slack, Newsl...</td>\n",
       "      <td>0</td>\n",
       "      <td>1</td>\n",
       "      <td>1</td>\n",
       "      <td>1</td>\n",
       "      <td>0</td>\n",
       "      <td>0</td>\n",
       "    </tr>\n",
       "  </tbody>\n",
       "</table>\n",
       "<p>5 rows × 356 columns</p>\n",
       "</div>"
      ],
      "text/plain": [
       "                       ('P0', 'id')  ('P1_a ', 'Idade')  \\\n",
       "0  qkx4q0ei90wcjxnqkx4q0j3xgf0zn13s                38.0   \n",
       "1  zdl2n19yhgpnoaco6kkczdl2nwv9zwrt                39.0   \n",
       "2  vsamqp2un3q7us84mgvsams5fulsmcoh                30.0   \n",
       "3  v31ab41botodnsv31zgg4k34zzojy81l                38.0   \n",
       "4  ubhu8ntvm4xc0sfkdubhu80e973eek0k                36.0   \n",
       "\n",
       "  ('P1_a_a ', 'Faixa idade') ('P1_b ', 'Genero')  \\\n",
       "0                      35-39           Masculino   \n",
       "1                      35-39           Masculino   \n",
       "2                      30-34           Masculino   \n",
       "3                      35-39            Feminino   \n",
       "4                      35-39           Masculino   \n",
       "\n",
       "  ('P1_e ', 'Estado onde mora') ('P1_e_a ', 'uf onde mora')  \\\n",
       "0                    Ceará (CE)                          CE   \n",
       "1                    Bahia (BA)                          BA   \n",
       "2           Santa Catarina (SC)                          SC   \n",
       "3                São Paulo (SP)                          SP   \n",
       "4           Santa Catarina (SC)                          SC   \n",
       "\n",
       "  ('P1_e_b ', 'Regiao onde mora') ('P1_g_b ', 'Regiao de origem')  \\\n",
       "0                        Nordeste                             NaN   \n",
       "1                        Nordeste                         Sudeste   \n",
       "2                             Sul                             NaN   \n",
       "3                         Sudeste                             NaN   \n",
       "4                             Sul                             NaN   \n",
       "\n",
       "   ('P1_g_c ', 'Mudou de Estado?') ('P1_h ', 'Nivel de Ensino')  ...  \\\n",
       "0                                0                Pós-graduação  ...   \n",
       "1                                1                Pós-graduação  ...   \n",
       "2                                0                Pós-graduação  ...   \n",
       "3                                0                Pós-graduação  ...   \n",
       "4                                0                Pós-graduação  ...   \n",
       "\n",
       "  ('P8_d_g ', 'Criando e dando manutenção em ETLs, DAGs e automações de pipelines de dados.')  \\\n",
       "0                                                NaN                                            \n",
       "1                                                NaN                                            \n",
       "2                                                NaN                                            \n",
       "3                                                NaN                                            \n",
       "4                                                NaN                                            \n",
       "\n",
       "  ('P8_d_h ', 'Criando e gerenciando soluções de Feature Store e cultura de MLOps.')  \\\n",
       "0                                                NaN                                   \n",
       "1                                                NaN                                   \n",
       "2                                                NaN                                   \n",
       "3                                                NaN                                   \n",
       "4                                                NaN                                   \n",
       "\n",
       "  ('P8_d_i ', 'Criando e mantendo a infra que meus modelos e soluções rodam (clusters, servidores, API, containers, etc.)')  \\\n",
       "0                                                NaN                                                                          \n",
       "1                                                NaN                                                                          \n",
       "2                                                NaN                                                                          \n",
       "3                                                NaN                                                                          \n",
       "4                                                NaN                                                                          \n",
       "\n",
       "  ('P9_a ', 'Quais das iniciativas do Data Hackers que você já acessou/acompanhou?')  \\\n",
       "0        Newsletter Semanal, Podcast do Data Hackers                                   \n",
       "1    Newsletter Semanal, Blog/Medium do Data Hackers                                   \n",
       "2  Blog/Medium do Data Hackers, Podcast do Data H...                                   \n",
       "3                  Ainda não conhecia o Data Hackers                                   \n",
       "4  Podcast do Data Hackers, Canal do Slack, Newsl...                                   \n",
       "\n",
       "   ('P9_a_a ', 'Blog/Medium do Data Hackers')  \\\n",
       "0                                           0   \n",
       "1                                           1   \n",
       "2                                           1   \n",
       "3                                           0   \n",
       "4                                           0   \n",
       "\n",
       "  ('P9_a_b ', 'Podcast do Data Hackers') ('P9_a_d ', 'Newsletter Semanal')  \\\n",
       "0                                      1                                 1   \n",
       "1                                      0                                 1   \n",
       "2                                      1                                 0   \n",
       "3                                      0                                 0   \n",
       "4                                      1                                 1   \n",
       "\n",
       "  ('P9_a_e ', 'Canal do Slack')  \\\n",
       "0                             0   \n",
       "1                             0   \n",
       "2                             0   \n",
       "3                             0   \n",
       "4                             1   \n",
       "\n",
       "  ('P9_a_f ', 'Canal do Youtube do Data Hackers')  \\\n",
       "0                                               0   \n",
       "1                                               0   \n",
       "2                                               0   \n",
       "3                                               0   \n",
       "4                                               0   \n",
       "\n",
       "  ('P9_a_g ', 'Ainda não conhecia o Data Hackers')  \n",
       "0                                                0  \n",
       "1                                                0  \n",
       "2                                                0  \n",
       "3                                                1  \n",
       "4                                                0  \n",
       "\n",
       "[5 rows x 356 columns]"
      ]
     },
     "execution_count": 26,
     "metadata": {},
     "output_type": "execute_result"
    }
   ],
   "source": [
    "ds = pd.read_csv('State of Data 2021 - Dataset - Pgina1.csv', low_memory=False)\n",
    "ds.head()"
   ]
  },
  {
   "cell_type": "code",
   "execution_count": 27,
   "id": "0ae6d83e",
   "metadata": {},
   "outputs": [],
   "source": [
    "# Consertando os nomes das colunas.\n",
    "ds.columns = [extract_string(col) for col in ds.columns]"
   ]
  },
  {
   "cell_type": "code",
   "execution_count": 28,
   "id": "26c8f142",
   "metadata": {
    "is_executing": true
   },
   "outputs": [
    {
     "name": "stdout",
     "output_type": "stream",
     "text": [
      "<class 'pandas.core.frame.DataFrame'>\n",
      "RangeIndex: 2645 entries, 0 to 2644\n",
      "Columns: 356 entries, id to Ainda não conhecia o Data Hackers\n",
      "dtypes: float64(293), int64(7), object(56)\n",
      "memory usage: 7.2+ MB\n"
     ]
    }
   ],
   "source": [
    "ds.info()"
   ]
  },
  {
   "cell_type": "code",
   "execution_count": 29,
   "id": "80cc3874",
   "metadata": {},
   "outputs": [
    {
     "data": {
      "text/plain": [
       "id                                    object\n",
       "Idade                                float64\n",
       "Faixa idade                           object\n",
       "Genero                                object\n",
       "Estado onde mora                      object\n",
       "                                      ...   \n",
       "Podcast do Data Hackers                int64\n",
       "Newsletter Semanal                     int64\n",
       "Canal do Slack                         int64\n",
       "Canal do Youtube do Data Hackers       int64\n",
       "Ainda não conhecia o Data Hackers      int64\n",
       "Length: 356, dtype: object"
      ]
     },
     "execution_count": 29,
     "metadata": {},
     "output_type": "execute_result"
    }
   ],
   "source": [
    "ds.dtypes"
   ]
  },
  {
   "cell_type": "code",
   "execution_count": 30,
   "id": "4a2cc6ab",
   "metadata": {},
   "outputs": [],
   "source": [
    "# Convertendo as idades de float para int, pois faz mais sentido.\n",
    "ds = ds.fillna(0)\n",
    "ds['Idade'] = ds['Idade'].astype(int)"
   ]
  },
  {
   "cell_type": "code",
   "execution_count": 31,
   "id": "671ec37d",
   "metadata": {
    "is_executing": true
   },
   "outputs": [
    {
     "data": {
      "text/plain": [
       "(array([ 28.,   0.,   0., 117., 649., 903., 468., 307., 100.,  73.]),\n",
       " array([ 0. ,  5.4, 10.8, 16.2, 21.6, 27. , 32.4, 37.8, 43.2, 48.6, 54. ]),\n",
       " <BarContainer object of 10 artists>)"
      ]
     },
     "execution_count": 31,
     "metadata": {},
     "output_type": "execute_result"
    },
    {
     "data": {
      "image/png": "[encoded data removed]",
      "text/plain": [
       "<Figure size 640x480 with 1 Axes>"
      ]
     },
     "metadata": {},
     "output_type": "display_data"
    }
   ],
   "source": [
    "plt.hist(ds.Idade)"
   ]
  },
  {
   "cell_type": "code",
   "execution_count": 32,
   "id": "4cab3adb",
   "metadata": {
    "is_executing": true
   },
   "outputs": [
    {
     "data": {
      "text/plain": [
       "(2645, 356)"
      ]
     },
     "execution_count": 32,
     "metadata": {},
     "output_type": "execute_result"
    }
   ],
   "source": [
    "ds.shape"
   ]
  },
  {
   "cell_type": "code",
   "execution_count": 34,
   "id": "cc80acb8",
   "metadata": {
    "is_executing": true
   },
   "outputs": [],
   "source": []
  },
  {
   "cell_type": "code",
   "execution_count": 36,
   "id": "6407d02d",
   "metadata": {
    "is_executing": true
   },
   "outputs": [],
   "source": []
  },
  {
   "cell_type": "code",
   "execution_count": null,
   "id": "4a21f586",
   "metadata": {
    "is_executing": true
   },
   "outputs": [],
   "source": []
  },
  {
   "cell_type": "code",
   "execution_count": null,
   "id": "b111e5db",
   "metadata": {
    "is_executing": true
   },
   "outputs": [],
   "source": []
  },
  {
   "cell_type": "code",
   "execution_count": null,
   "id": "2fbf5180",
   "metadata": {
    "is_executing": true
   },
   "outputs": [],
   "source": []
  },
  {
   "cell_type": "code",
   "execution_count": null,
   "id": "d0f32cc3",
   "metadata": {
    "is_executing": true
   },
   "outputs": [],
   "source": []
  },
  {
   "cell_type": "code",
   "execution_count": null,
   "id": "4d8295a6",
   "metadata": {
    "is_executing": true
   },
   "outputs": [],
   "source": []
  },
  {
   "cell_type": "code",
   "execution_count": null,
   "id": "95e18687",
   "metadata": {
    "is_executing": true
   },
   "outputs": [],
   "source": []
  },
  {
   "cell_type": "code",
   "execution_count": null,
   "id": "644cbfd2",
   "metadata": {
    "is_executing": true
   },
   "outputs": [],
   "source": []
  },
  {
   "cell_type": "code",
   "execution_count": null,
   "id": "ca9d6d5e",
   "metadata": {
    "is_executing": true
   },
   "outputs": [],
   "source": []
  },
  {
   "cell_type": "code",
   "execution_count": null,
   "id": "03b7f8fa",
   "metadata": {
    "is_executing": true
   },
   "outputs": [],
   "source": []
  },
  {
   "cell_type": "code",
   "execution_count": null,
   "id": "856b252d",
   "metadata": {
    "is_executing": true
   },
   "outputs": [],
   "source": []
  },
  {
   "cell_type": "code",
   "execution_count": null,
   "id": "0a8b1969",
   "metadata": {
    "is_executing": true
   },
   "outputs": [],
   "source": []
  },
  {
   "cell_type": "code",
   "execution_count": null,
   "id": "21aa5aeb",
   "metadata": {
    "is_executing": true
   },
   "outputs": [],
   "source": []
  },
  {
   "cell_type": "code",
   "execution_count": null,
   "id": "f4c7a7b8",
   "metadata": {
    "is_executing": true
   },
   "outputs": [],
   "source": []
  },
  {
   "cell_type": "code",
   "execution_count": null,
   "id": "a650d6e8",
   "metadata": {
    "is_executing": true
   },
   "outputs": [],
   "source": []
  },
  {
   "cell_type": "code",
   "execution_count": null,
   "id": "4924b746",
   "metadata": {
    "is_executing": true
   },
   "outputs": [],
   "source": []
  },
  {
   "cell_type": "code",
   "execution_count": null,
   "id": "56a37053",
   "metadata": {
    "is_executing": true
   },
   "outputs": [],
   "source": []
  },
  {
   "cell_type": "code",
   "execution_count": null,
   "id": "9c387de1",
   "metadata": {
    "is_executing": true
   },
   "outputs": [],
   "source": []
  },
  {
   "cell_type": "code",
   "execution_count": null,
   "id": "06c328c5",
   "metadata": {
    "is_executing": true
   },
   "outputs": [],
   "source": []
  },
  {
   "cell_type": "code",
   "execution_count": null,
   "id": "34400594",
   "metadata": {
    "is_executing": true
   },
   "outputs": [],
   "source": []
  },
  {
   "cell_type": "code",
   "execution_count": null,
   "id": "b0ce5e22",
   "metadata": {
    "is_executing": true
   },
   "outputs": [],
   "source": []
  },
  {
   "cell_type": "code",
   "execution_count": null,
   "id": "e0378ef0",
   "metadata": {
    "is_executing": true
   },
   "outputs": [],
   "source": []
  },
  {
   "cell_type": "code",
   "execution_count": null,
   "id": "0eecbbfb",
   "metadata": {
    "is_executing": true
   },
   "outputs": [],
   "source": []
  },
  {
   "cell_type": "code",
   "execution_count": null,
   "id": "6cce1902",
   "metadata": {
    "is_executing": true
   },
   "outputs": [],
   "source": []
  },
  {
   "cell_type": "code",
   "execution_count": null,
   "id": "0c985388",
   "metadata": {
    "is_executing": true
   },
   "outputs": [],
   "source": []
  },
  {
   "cell_type": "code",
   "execution_count": null,
   "id": "8c6afbae",
   "metadata": {
    "is_executing": true
   },
   "outputs": [],
   "source": []
  },
  {
   "cell_type": "code",
   "execution_count": null,
   "id": "05c6c5f9",
   "metadata": {
    "is_executing": true
   },
   "outputs": [],
   "source": []
  },
  {
   "cell_type": "code",
   "execution_count": null,
   "id": "ebe6dff2",
   "metadata": {
    "is_executing": true
   },
   "outputs": [],
   "source": []
  },
  {
   "cell_type": "code",
   "execution_count": null,
   "id": "ee687b3f",
   "metadata": {
    "is_executing": true
   },
   "outputs": [],
   "source": []
  },
  {
   "cell_type": "code",
   "execution_count": null,
   "id": "3cbd16a9",
   "metadata": {
    "is_executing": true
   },
   "outputs": [],
   "source": []
  },
  {
   "cell_type": "code",
   "execution_count": null,
   "id": "1220c245",
   "metadata": {
    "is_executing": true
   },
   "outputs": [],
   "source": []
  },
  {
   "cell_type": "code",
   "execution_count": null,
   "id": "f7c9fb20",
   "metadata": {
    "is_executing": true
   },
   "outputs": [],
   "source": []
  },
  {
   "cell_type": "code",
   "execution_count": null,
   "id": "dbb5263d",
   "metadata": {
    "is_executing": true
   },
   "outputs": [],
   "source": []
  }
 ],
 "metadata": {
  "kernelspec": {
   "display_name": "Python 3 (ipykernel)",
   "language": "python",
   "name": "python3"
  },
  "language_info": {
   "codemirror_mode": {
    "name": "ipython",
    "version": 3
   },
   "file_extension": ".py",
   "mimetype": "text/x-python",
   "name": "python",
   "nbconvert_exporter": "python",
   "pygments_lexer": "ipython3",
   "version": "3.10.12"
  }
 },
 "nbformat": 4,
 "nbformat_minor": 5
}
