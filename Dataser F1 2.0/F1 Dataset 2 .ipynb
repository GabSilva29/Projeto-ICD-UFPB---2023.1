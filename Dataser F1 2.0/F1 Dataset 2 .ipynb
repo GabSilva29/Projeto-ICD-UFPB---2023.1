{
 "cells": [
  {
   "cell_type": "code",
   "execution_count": 70,
   "id": "3c0fe059",
   "metadata": {},
   "outputs": [],
   "source": [
    "import pandas as pd\n",
    "import matplotlib.pyplot as plt\n",
    "import numpy as np\n",
    "from datetime import datetime \n",
    "\n",
    "import seaborn as sns "
   ]
  },
  {
   "cell_type": "markdown",
   "id": "64e39eb0",
   "metadata": {},
   "source": [
    "# Agora fazendo o tratamento de outra parte importante da pesquisa que são as equipes de F1, ou \"Constructors\""
   ]
  },
  {
   "cell_type": "code",
   "execution_count": 96,
   "id": "650dcf42",
   "metadata": {},
   "outputs": [
    {
     "data": {
      "text/html": [
       "<div>\n",
       "<style scoped>\n",
       "    .dataframe tbody tr th:only-of-type {\n",
       "        vertical-align: middle;\n",
       "    }\n",
       "\n",
       "    .dataframe tbody tr th {\n",
       "        vertical-align: top;\n",
       "    }\n",
       "\n",
       "    .dataframe thead th {\n",
       "        text-align: right;\n",
       "    }\n",
       "</style>\n",
       "<table border=\"1\" class=\"dataframe\">\n",
       "  <thead>\n",
       "    <tr style=\"text-align: right;\">\n",
       "      <th></th>\n",
       "      <th>constructorRef</th>\n",
       "      <th>name</th>\n",
       "      <th>nationality</th>\n",
       "    </tr>\n",
       "  </thead>\n",
       "  <tbody>\n",
       "    <tr>\n",
       "      <th>0</th>\n",
       "      <td>mclaren</td>\n",
       "      <td>McLaren</td>\n",
       "      <td>British</td>\n",
       "    </tr>\n",
       "    <tr>\n",
       "      <th>1</th>\n",
       "      <td>bmw_sauber</td>\n",
       "      <td>BMW Sauber</td>\n",
       "      <td>German</td>\n",
       "    </tr>\n",
       "    <tr>\n",
       "      <th>2</th>\n",
       "      <td>williams</td>\n",
       "      <td>Williams</td>\n",
       "      <td>British</td>\n",
       "    </tr>\n",
       "    <tr>\n",
       "      <th>3</th>\n",
       "      <td>renault</td>\n",
       "      <td>Renault</td>\n",
       "      <td>French</td>\n",
       "    </tr>\n",
       "    <tr>\n",
       "      <th>4</th>\n",
       "      <td>toro_rosso</td>\n",
       "      <td>Toro Rosso</td>\n",
       "      <td>Italian</td>\n",
       "    </tr>\n",
       "    <tr>\n",
       "      <th>...</th>\n",
       "      <td>...</td>\n",
       "      <td>...</td>\n",
       "      <td>...</td>\n",
       "    </tr>\n",
       "    <tr>\n",
       "      <th>206</th>\n",
       "      <td>manor</td>\n",
       "      <td>Manor Marussia</td>\n",
       "      <td>British</td>\n",
       "    </tr>\n",
       "    <tr>\n",
       "      <th>207</th>\n",
       "      <td>haas</td>\n",
       "      <td>Haas F1 Team</td>\n",
       "      <td>American</td>\n",
       "    </tr>\n",
       "    <tr>\n",
       "      <th>208</th>\n",
       "      <td>racing_point</td>\n",
       "      <td>Racing Point</td>\n",
       "      <td>British</td>\n",
       "    </tr>\n",
       "    <tr>\n",
       "      <th>209</th>\n",
       "      <td>alphatauri</td>\n",
       "      <td>AlphaTauri</td>\n",
       "      <td>Italian</td>\n",
       "    </tr>\n",
       "    <tr>\n",
       "      <th>210</th>\n",
       "      <td>alpine</td>\n",
       "      <td>Alpine F1 Team</td>\n",
       "      <td>French</td>\n",
       "    </tr>\n",
       "  </tbody>\n",
       "</table>\n",
       "<p>211 rows × 3 columns</p>\n",
       "</div>"
      ],
      "text/plain": [
       "    constructorRef            name nationality\n",
       "0          mclaren         McLaren     British\n",
       "1       bmw_sauber      BMW Sauber      German\n",
       "2         williams        Williams     British\n",
       "3          renault         Renault      French\n",
       "4       toro_rosso      Toro Rosso     Italian\n",
       "..             ...             ...         ...\n",
       "206          manor  Manor Marussia     British\n",
       "207           haas    Haas F1 Team    American\n",
       "208   racing_point    Racing Point     British\n",
       "209     alphatauri      AlphaTauri     Italian\n",
       "210         alpine  Alpine F1 Team      French\n",
       "\n",
       "[211 rows x 3 columns]"
      ]
     },
     "execution_count": 96,
     "metadata": {},
     "output_type": "execute_result"
    }
   ],
   "source": [
    "df = pd.read_csv('constructors.csv')\n",
    "df.columns\n",
    "df.drop(['constructorId','url','constructorRef'],axis=1,inplace=True)\n",
    "df"
   ]
  },
  {
   "cell_type": "markdown",
   "id": "2eb2e9e4",
   "metadata": {},
   "source": [
    "# Na célula abaixo fizemos o gráfico de pizza mostrando os países das equipes de F1 "
   ]
  },
  {
   "cell_type": "code",
   "execution_count": 109,
   "id": "ea158eed",
   "metadata": {},
   "outputs": [],
   "source": [
    "equipes_pais = df.groupby('nationality').name.nunique().reset_index()\n",
    "equipes_pais = equipes_pais.rename(columns ={'name':'constructor_counts'})\n",
    "equipes_pais1 = equipes_pais[equipes_pais.constructor_counts >= 9].sort_values('constructor_counts', ascending = False)\n",
    "\n",
    "equipes_pais1.loc[len(equipes_pais1.index)+1] = ['Others', (equipes_pais.constructor_counts.sum() - equipes_pais1.constructor_counts.sum())]"
   ]
  },
  {
   "cell_type": "code",
   "execution_count": 110,
   "id": "90d60ed8",
   "metadata": {},
   "outputs": [
    {
     "data": {
      "image/png": "[encoded data removed]",
      "text/plain": [
       "<Figure size 640x480 with 1 Axes>"
      ]
     },
     "metadata": {},
     "output_type": "display_data"
    }
   ],
   "source": [
    "plt.title('Países das Equipes')\n",
    "\n",
    "myexplode1 = [0,0,0,0,0,0.2]\n",
    "\n",
    "plt.pie(equipes_pais1.constructor_counts, labels = equipes_pais1.nationality, autopct='%1.1f%%', explode= myexplode1, shadow=True, startangle=270);"
   ]
  },
  {
   "cell_type": "markdown",
   "id": "21bcd0d6",
   "metadata": {},
   "source": [
    "# Assim como a nacionalidade dos pilotos, as equipes predominantes são de origens britânicas "
   ]
  },
  {
   "cell_type": "code",
   "execution_count": null,
   "id": "45df4886",
   "metadata": {},
   "outputs": [],
   "source": []
  },
  {
   "cell_type": "code",
   "execution_count": null,
   "id": "0fad98f8",
   "metadata": {},
   "outputs": [],
   "source": []
  },
  {
   "cell_type": "code",
   "execution_count": null,
   "id": "42906ff9",
   "metadata": {},
   "outputs": [],
   "source": []
  },
  {
   "cell_type": "code",
   "execution_count": null,
   "id": "8ed588c3",
   "metadata": {},
   "outputs": [],
   "source": []
  },
  {
   "cell_type": "code",
   "execution_count": null,
   "id": "f627de2d",
   "metadata": {},
   "outputs": [],
   "source": []
  },
  {
   "cell_type": "code",
   "execution_count": null,
   "id": "eefa2c14",
   "metadata": {},
   "outputs": [],
   "source": []
  },
  {
   "cell_type": "code",
   "execution_count": null,
   "id": "4f050acc",
   "metadata": {},
   "outputs": [],
   "source": []
  },
  {
   "cell_type": "code",
   "execution_count": null,
   "id": "b106a6d8",
   "metadata": {},
   "outputs": [],
   "source": []
  },
  {
   "cell_type": "code",
   "execution_count": null,
   "id": "55f4a111",
   "metadata": {},
   "outputs": [],
   "source": []
  }
 ],
 "metadata": {},
 "nbformat": 4,
 "nbformat_minor": 5
}
